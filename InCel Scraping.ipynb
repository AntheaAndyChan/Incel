{
 "cells": [
  {
   "cell_type": "code",
   "execution_count": 1,
   "metadata": {},
   "outputs": [],
   "source": [
    "import praw\n",
    "\n",
    "#setup reddit instance\n",
    "reddit=praw.Reddit(client_id= 'AHg4WHV1FIjPig',\n",
    "                   client_secret= 'pi7ttIzSPGcOt8B4VUtLYvkA8fg',\n",
    "                   username= 'AndyResearch',\n",
    "                   password= 'Greta-Andy-Kaylee2020',\n",
    "                   user_agent= 'Incel Research')"
   ]
  },
  {
   "cell_type": "code",
   "execution_count": 2,
   "metadata": {
    "scrolled": true
   },
   "outputs": [
    {
     "name": "stdout",
     "output_type": "stream",
     "text": [
      "C:\\Users\\Chan234\\Documents\\Personal Research\\Incels\\Scraping\\IncelExit\\IncelExit.txt\n"
     ]
    }
   ],
   "source": [
    "#Establish the subreddit\n",
    "incelexit_sub=reddit.subreddit('IncelExit')\n",
    "\n",
    "filename='C:\\\\Users\\\\Chan234\\\\Documents\\\\Personal Research\\\\Incels\\\\Scraping\\\\IncelExit\\\\' + str(incelexit_sub) + '.txt'\n",
    "print(filename)\n",
    "\n",
    "#Basic subreddit info\n",
    "File_object = open(filename,\"w+\")\n",
    "L=[\"Subreddit Title:\", str(incelexit_sub),\"\\n\",incelexit_sub.description]\n",
    "File_object.writelines(L) \n",
    "File_object.close()"
   ]
  },
  {
   "cell_type": "code",
   "execution_count": 3,
   "metadata": {
    "scrolled": true
   },
   "outputs": [],
   "source": [
    "#Table of most popular posts\n",
    "import pandas as pd\n",
    "posts= []\n",
    "for post in incelexit_sub.hot(limit=100):\n",
    "    posts.append([post.title, post.score, post.id, post.subreddit, post.url, post.num_comments, post.selftext, post.created])\n",
    "posts = pd.DataFrame(posts,columns=['title', 'score', 'id', 'subreddit', 'url', 'num_comments', 'body', 'created'])\n",
    "posts.to_csv('C:\\\\Users\\\\Chan234\\\\Documents\\\\Personal Research\\\\Incels\\\\Scraping\\\\IncelExit\\\\Directory.csv',index=False)"
   ]
  },
  {
   "cell_type": "code",
   "execution_count": 4,
   "metadata": {
    "scrolled": true
   },
   "outputs": [],
   "source": [
    "#hottest posts\n",
    "hot_IncelExit=incelexit_sub.hot(limit=100)\n",
    "\n",
    "for submission in hot_IncelExit:\n",
    "    filename = 'C:\\\\Users\\\\Chan234\\\\Documents\\\\Personal Research\\\\Incels\\\\Scraping\\\\IncelExit\\\\' + submission.id + '.txt'\n",
    "    File_object = open(filename,\"w+\")\n",
    "    L=[(100*'-'),\"\\n\",\n",
    "       str(filename),\"\\n\",\n",
    "       'Post Title: ', str(submission.title),\"\\n\", \n",
    "       'Post ID: ', str(submission.id),\"\\n\",\n",
    "       'Ups: ', str(submission.ups),\"\\n\",\n",
    "       'Downs: ', str(submission.downs),\"\\n\",\n",
    "       'Body: ', str(submission.selftext),\"\\n\"]  \n",
    "        \n",
    "    File_object.writelines(L)\n",
    "    File_object.close()\n",
    "    \n",
    " "
   ]
  },
  {
   "cell_type": "code",
   "execution_count": 13,
   "metadata": {},
   "outputs": [],
   "source": [
    "for submission in hot_IncelExit:\n",
    "    submission.comments.replace_more(limit=None) \n",
    "    comments = submission.comments.list() \n",
    "    print(str(submission))\n",
    "    filename = 'C:\\\\Users\\\\Chan234\\\\Documents\\\\Personal Research\\\\Incels\\\\Scraping\\\\IncelExit\\\\' + submission.id + '_comments.txt'\n",
    "    File_object = open(filename,\"w+\")\n",
    "    L_comments=[]\n",
    "    for comment in comments:\n",
    "        L_comments.append([(20*'-'), \"\\n\",\n",
    "        'Parent ID: ', str(comment.parent()), \"\\n\", #parents can be the submission, or the comment\n",
    "        'Comment ID: ', str(comment.id), \"\\n\",\n",
    "        'Body: ', str(comment.body), \"\\n\"])\n",
    "        print(L_comment)\n",
    "    File_object.writelines(L_comments)\n",
    "    File_object.close()"
   ]
  },
  {
   "cell_type": "code",
   "execution_count": 19,
   "metadata": {},
   "outputs": [
    {
     "name": "stdout",
     "output_type": "stream",
     "text": [
      "fj5xmp\n",
      "[Comment(id='fkqxogz'), Comment(id='fksw7st'), Comment(id='fkl2dj6'), Comment(id='fkqpcoi'), Comment(id='fkt90sa')]\n",
      "-------------------- \n",
      " Parent ID:  fj5xmp \n",
      " Comment ID:  fkqxogz \n",
      " Body:  The first step is identifying and acknowledging the problem. I would guess that you're jealous of other men and feel inferior.\n",
      "\n",
      "The second step is belittle the negative thoughts. Like, if a woman is happy to date you, then clearly you're not inferior to her ex-boyfriends. \n",
      "\n",
      "-------------------- \n",
      " Parent ID:  fj5xmp \n",
      " Comment ID:  fksw7st \n",
      " Body:  You don't have to get rid of the notion. \n",
      "\n",
      "The truth is, attractive people will always have an easier time getting partners. As human beings, we gravitate towards people we find attractive. That's okay. That's healthy. We all have preferences, and you can't get angry because I'm sure you have them too. We all do.\n",
      "\n",
      "The thing is, looks only take you so far. One really common idea in the incel community is that women see men, troubled men in horrible situations or with violent tendencies, and fall for them. That's a notion you *do* have to abandon. It is not the truth. \n",
      "\n",
      "Women, just like men, gravitate towards the sex they find attractive. They want to stroke their faces, find them beautiful, have sex with them. Attraction *is* important to a relationship, but it isn't all of it.\n",
      "\n",
      "Looks fade. Some women fall in love with beautiful men who turn out to be awful. They didn't know that, and it isn't their fault. Some men fall in love with beautiful women who turn out to be awful. They didn't know that, and it isn't their fault. \n",
      "\n",
      "We all have preferences. Different things we find attractive, features, bodies. It isn't all one thing, and it will never be. \n",
      "\n",
      "Work on *you.* Don't do anything because you think it'll help you attract a partner. Get the haircut you like because it makes you feel confident. Breathe. Start meditation. Go to therapy, not because it will \"fix you\" but because it will give you easier access to things that make you who you want to be. Take long showers, print out pictures of beautiful, hopeful things and put them on your walls.\n",
      "\n",
      "Surround yourself with art. Surround yourself with things that make *you* feel good. Get a degree so you can get the job that would make *you* feel fulfilled. \n",
      "\n",
      "You are valuable, with or without a relationship. You are worthy. You are going to be okay, and I believe in you. Become the person you've always wanted to be, and when you truly are, you'll find what you're looking for. \n",
      "\n",
      "I promise you that not everything is as bad as it seems. Take a break and learn to love *you.* Its okay to stumble. Its okay to fail. It makes you human, and we all have that in common, okay? \n",
      "\n",
      "-------------------- \n",
      " Parent ID:  fj5xmp \n",
      " Comment ID:  fkl2dj6 \n",
      " Body:  This submission has been removed because your account is too young or you have too little karma.\n",
      "\n",
      "\n",
      "*I am a bot, and this action was performed automatically. Please [contact the moderators of this subreddit](/message/compose/?to=/r/IncelExit) if you have any questions or concerns.* \n",
      "\n",
      "-------------------- \n",
      " Parent ID:  fj5xmp \n",
      " Comment ID:  fkqpcoi \n",
      " Body:  There's nothing incorrect about the belief itself, of course attractive guys have a much easier time getting girls. Don't obsess about it if you ever find yourself in a relationship. \n",
      "\n",
      "-------------------- \n",
      " Parent ID:  fj5xmp \n",
      " Comment ID:  fkt90sa \n",
      " Body:  Some people have advantages in life. \n",
      "\n"
     ]
    }
   ],
   "source": [
    "print(submission.id) \n",
    "\n",
    "submission.comments.replace_more(limit=None) \n",
    "comments = submission.comments.list() \n",
    "print(comments)\n",
    "for comment in comments:\n",
    "    print((20*'-'), \"\\n\",\n",
    "        'Parent ID: ', str(comment.parent()), \"\\n\", \n",
    "        'Comment ID: ', str(comment.id), \"\\n\",\n",
    "        'Body: ', str(comment.body), \"\\n\")\n",
    "\n"
   ]
  },
  {
   "cell_type": "code",
   "execution_count": 8,
   "metadata": {},
   "outputs": [],
   "source": [
    "submission.comments.replace_more(limit=None)\n",
    "for top_level_comment in submission.comments:\n",
    "    for second_level_comment in top_level_comment.replies:\n",
    "        print(second_level_comment.body)"
   ]
  }
 ],
 "metadata": {
  "kernelspec": {
   "display_name": "Python 3",
   "language": "python",
   "name": "python3"
  },
  "language_info": {
   "codemirror_mode": {
    "name": "ipython",
    "version": 3
   },
   "file_extension": ".py",
   "mimetype": "text/x-python",
   "name": "python",
   "nbconvert_exporter": "python",
   "pygments_lexer": "ipython3",
   "version": "3.7.6"
  }
 },
 "nbformat": 4,
 "nbformat_minor": 4
}
